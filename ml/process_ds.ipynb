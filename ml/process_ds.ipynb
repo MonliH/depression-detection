{
 "cells": [
  {
   "cell_type": "code",
   "execution_count": 1,
   "metadata": {},
   "outputs": [],
   "source": [
    "import datasets"
   ]
  },
  {
   "cell_type": "code",
   "execution_count": 2,
   "metadata": {},
   "outputs": [
    {
     "data": {
      "application/vnd.jupyter.widget-view+json": {
       "model_id": "b89dedaf8956448691dc65283c8ace45",
       "version_major": 2,
       "version_minor": 0
      },
      "text/plain": [
       "Filter (num_proc=64):   0%|          | 0/256852 [00:00<?, ? examples/s]"
      ]
     },
     "metadata": {},
     "output_type": "display_data"
    }
   ],
   "source": [
    "ds = datasets.load_from_disk(\"/mnt/disks/persist/user_comments\", keep_in_memory=True)\n",
    "ds = ds.filter(lambda x: len(x[\"posts\"]) > 0, num_proc=64)\n",
    "#ds.save_to_disk(\"/mnt/disks/persist/user_comments_filtered\")"
   ]
  },
  {
   "cell_type": "code",
   "execution_count": 4,
   "metadata": {},
   "outputs": [
    {
     "data": {
      "text/plain": [
       "Dataset({\n",
       "    features: ['user', 'posts', 'depressed_label'],\n",
       "    num_rows: 251210\n",
       "})"
      ]
     },
     "execution_count": 4,
     "metadata": {},
     "output_type": "execute_result"
    }
   ],
   "source": [
    "ds"
   ]
  },
  {
   "cell_type": "code",
   "execution_count": 6,
   "metadata": {},
   "outputs": [],
   "source": [
    "def format_post_as_text(posts):\n",
    "    return \"\\n\\n\".join(f\"Post from /r/{post['subreddit']}:\\n{post['body']}\" for post in posts)\n",
    "\n",
    "def add_text_format(batch):\n",
    "    batch[\"text\"] = [format_post_as_text(sample) for sample in batch[\"posts\"]]\n",
    "    return batch\n",
    "\n",
    "new_ds = ds.map(add_text_format, remove_columns=[\"user\", \"posts\"], batched=True, num_proc=64)"
   ]
  },
  {
   "cell_type": "code",
   "execution_count": null,
   "metadata": {},
   "outputs": [],
   "source": [
    "split = new_ds.train_test_split(test_size=0.15, seed=42)\n",
    "test_validation = split[\"test\"].train_test_split(test_size=0.5, seed=42)\n",
    "ds_dict = datasets.DatasetDict({\n",
    "    \"train\": split[\"train\"],\n",
    "    \"validation\": test_validation[\"train\"],\n",
    "    \"test\": test_validation[\"test\"]\n",
    "})"
   ]
  }
 ],
 "metadata": {
  "kernelspec": {
   "display_name": "Python 3",
   "language": "python",
   "name": "python3"
  },
  "language_info": {
   "codemirror_mode": {
    "name": "ipython",
    "version": 3
   },
   "file_extension": ".py",
   "mimetype": "text/x-python",
   "name": "python",
   "nbconvert_exporter": "python",
   "pygments_lexer": "ipython3",
   "version": "3.8.10"
  },
  "orig_nbformat": 4,
  "vscode": {
   "interpreter": {
    "hash": "31f2aee4e71d21fbe5cf8b01ff0e069b9275f58929596ceb00d14d90e3e16cd6"
   }
  }
 },
 "nbformat": 4,
 "nbformat_minor": 2
}
