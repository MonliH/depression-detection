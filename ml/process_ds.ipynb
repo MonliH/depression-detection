{
 "cells": [
  {
   "cell_type": "code",
   "execution_count": 1,
   "metadata": {},
   "outputs": [],
   "source": [
    "import datasets"
   ]
  },
  {
   "cell_type": "code",
   "execution_count": 28,
   "metadata": {},
   "outputs": [],
   "source": [
    "ds = datasets.load_from_disk(\"/mnt/disks/persist/user_comments_text_filtered/\", keep_in_memory=True)"
   ]
  },
  {
   "cell_type": "code",
   "execution_count": 16,
   "metadata": {},
   "outputs": [],
   "source": [
    "from transformers import AutoTokenizer\n",
    "tokenizer = AutoTokenizer.from_pretrained(\"google/bigbird-roberta-base\")\n",
    "max_seq_length = 4096\n",
    "\n",
    "TO_BINARY = {\n",
    "    0: 1, # depressed\n",
    "    1: 0, # control 1 (not depressed)\n",
    "    2: 0, # control 2 (random)\n",
    "}\n",
    "\n",
    "def preprocess_function(examples):\n",
    "    # Tokenize the texts\n",
    "    result = tokenizer(examples[\"text\"], max_length=max_seq_length, return_overflowing_tokens=True)\n",
    "    labels = []\n",
    "    for input_ids, attention_mask, segment in zip(result[\"input_ids\"], result[\"attention_mask\"], result[\"overflow_to_sample_mapping\"]):\n",
    "        labels.append(TO_BINARY[examples[\"depressed_label\"][segment]])\n",
    "        if len(input_ids) < max_seq_length:\n",
    "            additional_needed = max_seq_length - len(input_ids)\n",
    "            input_ids.extend([tokenizer.pad_token_id]*additional_needed)\n",
    "            attention_mask.extend([0]*additional_needed)\n",
    "\n",
    "    result[\"labels\"] = labels\n",
    "    del result[\"overflow_to_sample_mapping\"]\n",
    "    return result"
   ]
  },
  {
   "cell_type": "code",
   "execution_count": 26,
   "metadata": {},
   "outputs": [
    {
     "data": {
      "application/vnd.jupyter.widget-view+json": {
       "model_id": "5c941f3f165f4821a6636714752b40f2",
       "version_major": 2,
       "version_minor": 0
      },
      "text/plain": [
       "Map:   0%|          | 0/3 [00:00<?, ? examples/s]"
      ]
     },
     "metadata": {},
     "output_type": "display_data"
    },
    {
     "data": {
      "text/plain": [
       "[(1,\n",
       "  '[CLS] Post from /r/bookbinding:<unk>you might have better luck posting this in r/bujo, r/bulletjournal, r/notebooks, or r/stationery<unk>Post from /r/Anticonsumption:<unk>my family got the ones from t'),\n",
       " (1,\n",
       "  '[CLS] have fun and actually express yourself).<unk>Post from /r/AskWomen:<unk>[https://www.youtube.com/watch?v=PE66HEZBZYE](https://www.youtube.com/watch?v=PE66HEZBZYE) a handy dandy adam ruins everyt'),\n",
       " (1,\n",
       "  \"[CLS] whale's trying not to move its tail too much and hurt the dolphins on porpoise <unk>Post from /r/learnart:<unk>you could scan and print a copy or two, and then experiment on the copies with more\"),\n",
       " (1,\n",
       "  '[CLS] color](https://gd.image-gmkt.com/CUTE-PINK-ORANGE-BAG-FLAT-COMB-TEETH-SQUARE-PLATE-COMB-HAIR-HAIRBRUSH/li/610/936/819936610.g_400-w_g.jpg). less than 10$) so that it gently convinces the tangles'),\n",
       " (1,\n",
       "  '[CLS] how active unions are there and what the society treats as normal amounts of work. for example: a lot of nations have a lot more maternity and paternity leave than the US has, and wait staff mig'),\n",
       " (1,\n",
       "  '[CLS] Post from /r/adhdwomen:<unk>I left my full time job to go back to school. I dropped out 8 years ago and honestly I am kind of glad I did it backwards. As you said in physical space is great espe'),\n",
       " (1,\n",
       "  '[CLS] plant mommy :))<unk>Post from /r/infp:<unk>Hab erst gerade gecheckt dass die Schrift auf dem Ballon deutsch ist, lol grüß dich!<unk>Post from /r/infp:<unk>Must be an infp too, aged beautifully <'),\n",
       " (1,\n",
       "  \"[CLS] ADHD because I was always moving and and it was a life long hyper focus until high school ended. Guess my cells just aren't feeling it anymore <unk> <unk>I also worked as a nurse's assistant lat\"),\n",
       " (1,\n",
       "  \"[CLS]. Just started stims 2 months ago and its been helping a lot with regulation. Feel free to DM me!!!<unk>Post from /r/adhdwomen:<unk>This is probably the most caring response I've ever received. T\"),\n",
       " (1,\n",
       "  \"[CLS] last 7 years. Don't need coffee anymore except occasionally in the evenings when my stims wear off.<unk>Before all of this about 9 years ago I was a 3x a day venti girl. Same as medication, don'\"),\n",
       " (1,\n",
       "  \"[CLS] a super high level job of strategy and ops for people and I feel like shit.<unk>She's mean and forceful and almost superficial. <unk>In theory she seems to care, but in practice she just makes p\"),\n",
       " (0,\n",
       "  '[CLS] Post from /r/science:<unk>sure. unless of course you set a standard for \"rigorous\" so far beyond an other expectation for any other complicated medical undergoing. Because that in and of itself,'),\n",
       " (0,\n",
       "  '[CLS] in bad faith.<unk>Post from /r/worldnews:<unk>Do you really think our government has LESS say in healthcare? States are litterally falling over themsleves to ban medical procedures AND ban trave'),\n",
       " (0,\n",
       "  '[CLS] literal party platform, do not want to solve America<unk>s <unk>own problems<unk>. They want to ban abortion and burn books. Oh and cut taxes for the ultra rich. Can<unk>t forget that. <unk>So n'),\n",
       " (0,\n",
       "  '[CLS] an mlm scheme. It is not the future. Put your time, energy and imagination elsewhere. It<unk>ll do you good.<unk>And I<unk>m using gold standard as a way to mock you. Both are dumb for the same ')]"
      ]
     },
     "execution_count": 26,
     "metadata": {},
     "output_type": "execute_result"
    }
   ],
   "source": [
    "l = []\n",
    "for i in ds[\"train\"].select(range(0,3)).map(preprocess_function, batched=True, remove_columns=ds[\"train\"].column_names):\n",
    "    l.append((i[\"labels\"], tokenizer.decode(i[\"input_ids\"])[:200]))"
   ]
  },
  {
   "cell_type": "code",
   "execution_count": 2,
   "metadata": {},
   "outputs": [
    {
     "data": {
      "application/vnd.jupyter.widget-view+json": {
       "model_id": "b89dedaf8956448691dc65283c8ace45",
       "version_major": 2,
       "version_minor": 0
      },
      "text/plain": [
       "Filter (num_proc=64):   0%|          | 0/256852 [00:00<?, ? examples/s]"
      ]
     },
     "metadata": {},
     "output_type": "display_data"
    }
   ],
   "source": [
    "ds = datasets.load_from_disk(\"/mnt/disks/persist/user_comments\", keep_in_memory=True)\n",
    "ds = ds.filter(lambda x: len(x[\"posts\"]) > 0, num_proc=64)\n",
    "#ds.save_to_disk(\"/mnt/disks/persist/user_comments_filtered\")"
   ]
  },
  {
   "cell_type": "code",
   "execution_count": 4,
   "metadata": {},
   "outputs": [
    {
     "data": {
      "text/plain": [
       "Dataset({\n",
       "    features: ['user', 'posts', 'depressed_label'],\n",
       "    num_rows: 251210\n",
       "})"
      ]
     },
     "execution_count": 4,
     "metadata": {},
     "output_type": "execute_result"
    }
   ],
   "source": [
    "ds"
   ]
  },
  {
   "cell_type": "code",
   "execution_count": 6,
   "metadata": {},
   "outputs": [],
   "source": [
    "def format_post_as_text(posts):\n",
    "    return \"\\n\\n\".join(f\"Post from /r/{post['subreddit']}:\\n{post['body']}\" for post in posts)\n",
    "\n",
    "def add_text_format(batch):\n",
    "    batch[\"text\"] = [format_post_as_text(sample) for sample in batch[\"posts\"]]\n",
    "    return batch\n",
    "\n",
    "new_ds = ds.map(add_text_format, remove_columns=[\"user\", \"posts\"], batched=True, num_proc=64)"
   ]
  },
  {
   "cell_type": "code",
   "execution_count": null,
   "metadata": {},
   "outputs": [],
   "source": [
    "split = new_ds.train_test_split(test_size=0.15, seed=42)\n",
    "test_validation = split[\"test\"].train_test_split(test_size=0.5, seed=42)\n",
    "ds_dict = datasets.DatasetDict({\n",
    "    \"train\": split[\"train\"],\n",
    "    \"validation\": test_validation[\"train\"],\n",
    "    \"test\": test_validation[\"test\"]\n",
    "})"
   ]
  },
  {
   "cell_type": "code",
   "execution_count": null,
   "metadata": {},
   "outputs": [],
   "source": []
  }
 ],
 "metadata": {
  "kernelspec": {
   "display_name": "Python 3",
   "language": "python",
   "name": "python3"
  },
  "language_info": {
   "codemirror_mode": {
    "name": "ipython",
    "version": 3
   },
   "file_extension": ".py",
   "mimetype": "text/x-python",
   "name": "python",
   "nbconvert_exporter": "python",
   "pygments_lexer": "ipython3",
   "version": "3.8.10"
  },
  "orig_nbformat": 4,
  "vscode": {
   "interpreter": {
    "hash": "31f2aee4e71d21fbe5cf8b01ff0e069b9275f58929596ceb00d14d90e3e16cd6"
   }
  }
 },
 "nbformat": 4,
 "nbformat_minor": 2
}
